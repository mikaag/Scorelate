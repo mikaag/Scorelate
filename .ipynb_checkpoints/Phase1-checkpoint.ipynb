{
 "cells": [
  {
   "cell_type": "code",
   "execution_count": 2,
   "metadata": {
    "pycharm": {
     "name": "#%%\n"
    }
   },
   "outputs": [],
   "source": [
    "import pymssql\n",
    "import pandas as pd"
   ]
  },
  {
   "cell_type": "markdown",
   "metadata": {
    "pycharm": {
     "name": "#%% md\n"
    }
   },
   "source": [
    "### Connect to the Database\n"
   ]
  },
  {
   "cell_type": "code",
   "execution_count": 3,
   "metadata": {
    "pycharm": {
     "name": "#%%\n"
    }
   },
   "outputs": [],
   "source": [
    "conn = pymssql.connect(server='localhost', user='sa', password='Passw0rd!', database='Loans_2023_01_27')\n",
    "cursor = conn.cursor()"
   ]
  },
  {
   "cell_type": "code",
   "execution_count": 5,
   "metadata": {
    "pycharm": {
     "name": "#%%\n"
    }
   },
   "outputs": [
    {
     "name": "stdout",
     "output_type": "stream",
     "text": [
      "['ApplicationNumber', 'Name', 'CarMake', 'OpeningBalance', 'Salary', 'EmploymentMonths', 'Occupation', 'Term', 'Dealer', 'Payment', 'PTI', 'VehicleYear', 'State', 'CreaditScore', 'Vehicle', 'CustomScore', 'APR', 'LTV', 'DTI', 'Mileage', 'VehicleType', 'TradelinesTotal', 'TradelinesBalance', 'Foreclosure', 'Reposessions', 'Bankrupcies', 'Chageoff', 'Mortgage', 'NinetyDaysDelinquent', 'Was180DaysPastDue', 'Account150DaysPastDue', 'Account180DaysPastDue', 'InquiresTotal', 'OpenTotal', 'ClosedTotalTermsNotPaid', 'LatePaymentHistory001230', 'LatePaymentHistory001260', 'LatePaymentHistory001290Plus', 'LatePaymentHistory132430', 'LatePaymentHistory132460', 'LatePaymentHistory132490Plus', 'LatePaymentHistory25Plus30', 'LatePaymentHistory25Plus60', 'LatePaymentHistory25Plus90', 'VIN', 'ApplicationStatus', 'PaidAccounts', 'InquiriesLast6Months', 'OpenAcctsInGoodStatus', 'OpenTotalInBadStatus', 'CurrentPaymentsMade', 'RentMortgage', 'CashDown', 'MonthsAtHome', 'AvailableIncomePercent', 'HomeOwner']\n"
     ]
    },
    {
     "ename": "AttributeError",
     "evalue": "module 'pandas' has no attribute 'DataFrame'",
     "output_type": "error",
     "traceback": [
      "\u001b[0;31m---------------------------------------------------------------------------\u001b[0m",
      "\u001b[0;31mAttributeError\u001b[0m                            Traceback (most recent call last)",
      "Input \u001b[0;32mIn [5]\u001b[0m, in \u001b[0;36m<cell line: 17>\u001b[0;34m()\u001b[0m\n\u001b[1;32m     14\u001b[0m     rows\u001b[38;5;241m.\u001b[39mappend(row)\n\u001b[1;32m     15\u001b[0m     res \u001b[38;5;241m=\u001b[39m cursor\u001b[38;5;241m.\u001b[39mfetchone()\n\u001b[0;32m---> 17\u001b[0m df \u001b[38;5;241m=\u001b[39m \u001b[43mpd\u001b[49m\u001b[38;5;241;43m.\u001b[39;49m\u001b[43mDataFrame\u001b[49m(rows, columns\u001b[38;5;241m=\u001b[39mheaders)\n\u001b[1;32m     18\u001b[0m \u001b[38;5;28mprint\u001b[39m(df)\n",
      "\u001b[0;31mAttributeError\u001b[0m: module 'pandas' has no attribute 'DataFrame'"
     ]
    }
   ],
   "source": [
    "headers = []\n",
    "rows = []\n",
    "\n",
    "cursor.execute(\"SELECT * FROM dbo.UnderwritingData\")\n",
    "\n",
    "for entity in cursor.description:\n",
    "    headers.append(entity[0])\n",
    "\n",
    "print(headers)\n",
    "\n",
    "res = cursor.fetchone()\n",
    "while res:\n",
    "    row = [element for element in res]\n",
    "    rows.append(row)\n",
    "    res = cursor.fetchone()\n",
    "\n",
    "df = pd.DataFrame(rows, columns=headers)\n",
    "print(df)"
   ]
  },
  {
   "cell_type": "code",
   "execution_count": null,
   "metadata": {
    "pycharm": {
     "name": "#%%\n"
    }
   },
   "outputs": [],
   "source": []
  }
 ],
 "metadata": {
  "kernelspec": {
   "display_name": "Python 3 (ipykernel)",
   "language": "python",
   "name": "python3"
  },
  "language_info": {
   "codemirror_mode": {
    "name": "ipython",
    "version": 3
   },
   "file_extension": ".py",
   "mimetype": "text/x-python",
   "name": "python",
   "nbconvert_exporter": "python",
   "pygments_lexer": "ipython3",
   "version": "3.9.12"
  }
 },
 "nbformat": 4,
 "nbformat_minor": 1
}
