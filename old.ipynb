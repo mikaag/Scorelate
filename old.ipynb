{
 "cells": [
  {
   "cell_type": "code",
   "execution_count": 148,
   "outputs": [],
   "source": [
    "import pymssql\n",
    "import pandas as pd\n",
    "from tqdm import tqdm\n",
    "from sklearn.model_selection import train_test_split\n",
    "from sklearn.linear_model import LogisticRegression\n",
    "from sklearn.feature_selection import RFE\n",
    "from sklearn import metrics\n",
    "from sklearn.preprocessing import LabelEncoder\n",
    "import xgboost as xgb\n",
    "import numpy as np\n",
    "from sklearn.metrics import accuracy_score\n",
    "from xgboost import plot_importance\n",
    "from hyperopt import STATUS_OK, Trials, fmin, hp, tpe\n",
    "import matplotlib.pyplot as plt\n",
    "import tensorflow as tf\n",
    "import seaborn as sns\n",
    "from tensorflow.python.ops.numpy_ops import np_config\n",
    "np_config.enable_numpy_behavior()"
   ],
   "metadata": {
    "collapsed": false,
    "pycharm": {
     "name": "#%%\n"
    }
   }
  },
  {
   "cell_type": "markdown",
   "source": [
    "### Connect to the Database\n"
   ],
   "metadata": {
    "collapsed": false,
    "pycharm": {
     "name": "#%% md\n"
    }
   }
  },
  {
   "cell_type": "code",
   "execution_count": 112,
   "outputs": [],
   "source": [
    "conn = pymssql.connect(server='localhost', user='sa', password='Passw0rd!', database='Loans_2023_01_27')\n",
    "cursor = conn.cursor()"
   ],
   "metadata": {
    "collapsed": false,
    "pycharm": {
     "name": "#%%\n"
    }
   }
  },
  {
   "cell_type": "code",
   "execution_count": 113,
   "outputs": [],
   "source": [
    "def get_column_index(cursor, column_name):\n",
    "    for index, col in enumerate(cursor.description):\n",
    "        if col[0] == column_name:\n",
    "            return index"
   ],
   "metadata": {
    "collapsed": false,
    "pycharm": {
     "name": "#%%\n"
    }
   }
  },
  {
   "cell_type": "markdown",
   "source": [
    "### Constructs a DataFrame with the entities from UnderwritingData and the Result from RawAlgorithmData"
   ],
   "metadata": {
    "collapsed": false,
    "pycharm": {
     "name": "#%% md\n"
    }
   }
  },
  {
   "cell_type": "code",
   "execution_count": 114,
   "outputs": [],
   "source": [
    "additional_data_headers = [\"RentMortgagePayment\" ,\"TotalIncome\" ,\"RentMortgage\" ,\"CarPayment\" ,\"Expenses\" ,\"AvailableIncome\" ,\"Miles\"]\n",
    "additional_data_sql = \"VIN,\"\n",
    "for i, header in enumerate(additional_data_headers):\n",
    "    additional_data_sql += header\n",
    "    if i!=len(additional_data_headers)-1:\n",
    "        additional_data_sql+=','"
   ],
   "metadata": {
    "collapsed": false,
    "pycharm": {
     "name": "#%%\n"
    }
   }
  },
  {
   "cell_type": "code",
   "execution_count": 137,
   "outputs": [
    {
     "name": "stdout",
     "output_type": "stream",
     "text": [
      "Assigning Additional Entities\n"
     ]
    },
    {
     "name": "stderr",
     "output_type": "stream",
     "text": [
      "100%|██████████| 28023/28023 [00:32<00:00, 860.65it/s]\n"
     ]
    },
    {
     "name": "stdout",
     "output_type": "stream",
     "text": [
      "Assigning Results\n"
     ]
    },
    {
     "name": "stderr",
     "output_type": "stream",
     "text": [
      "100%|██████████| 24961/24961 [00:17<00:00, 1411.81it/s]\n"
     ]
    }
   ],
   "source": [
    "headers = []\n",
    "rows = []\n",
    "\n",
    "# Underwriting Data\n",
    "cursor.execute(\"SELECT * FROM dbo.UnderwritingData\")\n",
    "\n",
    "for entity in cursor.description:\n",
    "    headers.append(entity[0])\n",
    "\n",
    "vin_index = get_column_index(cursor, \"VIN\")\n",
    "\n",
    "res = cursor.fetchone()\n",
    "while res:\n",
    "    row = [element for element in res]\n",
    "    if row[vin_index] is not None:\n",
    "        row[vin_index] = row[vin_index][-6:]\n",
    "        rows.append(row)\n",
    "    res = cursor.fetchone()\n",
    "\n",
    "df = pd.DataFrame(rows, columns=headers)\n",
    "\n",
    "\n",
    "#Additional Data\n",
    "cursor.execute(\"Select {vCols} FROM dbo.VerificationsDec\".format(vCols = additional_data_sql))\n",
    "\n",
    "addl_data_rows = []\n",
    "res = cursor.fetchone()\n",
    "\n",
    "while res:\n",
    "    row = [element for element in res]\n",
    "    row[0] = row[0].strip()[-6:]\n",
    "    addl_data_rows.append(row)\n",
    "    res = cursor.fetchone()\n",
    "\n",
    "print(\"Assigning Additional Entities\")\n",
    "for data in tqdm(addl_data_rows):\n",
    "    df.loc[df['VIN']==data[0], additional_data_headers] = data[1:]\n",
    "\n",
    "#Results from RawAlgorithmData\n",
    "cursor.execute(\"SELECT Vin6,ProcStatsCd FROM dbo.RawAlgorithmData\")\n",
    "res = cursor.fetchone()\n",
    "loan_results = dict()\n",
    "while res:\n",
    "    vin6 = res[0].strip()[-6:]\n",
    "    loan_results[vin6] = res[1].strip()\n",
    "    res = cursor.fetchone()\n",
    "\n",
    "default_result = [\"NA\" for i in range(len(df))]\n",
    "df['Result'] = default_result\n",
    "\n",
    "print(\"Assigning Results\")\n",
    "for vin6, res in tqdm(loan_results.items()):\n",
    "    df.loc[df['VIN'] == vin6, 'Result'] = res\n",
    "\n",
    "df = df[[\"RentMortgagePayment\" ,\"TotalIncome\" ,\"CarPayment\" ,\"Expenses\" ,\"AvailableIncome\" ,\"Miles\", \"OpeningBalance\",\"Salary\",\"Term\",\"VehicleYear\",\"CreaditScore\",\"LTV\",\"DTI\",\"TradelinesTotal\",\"TradelinesBalance\",\"Foreclosure\",\"Reposessions\",\"Bankrupcies\",\"Chageoff\",\"Mortgage\",\"NinetyDaysDelinquent\",\"InquiresTotal\",\"OpenTotal\",\"ClosedTotalTermsNotPaid\",\"LatePaymentHistory001230\",\"LatePaymentHistory001260\",\"LatePaymentHistory001290Plus\",\"PaidAccounts\",\"InquiriesLast6Months\",\"OpenTotalInBadStatus\",\"CurrentPaymentsMade\",\"RentMortgage\",\"CashDown\",\"HomeOwner\", \"Result\"]]"
   ],
   "metadata": {
    "collapsed": false,
    "pycharm": {
     "name": "#%%\n"
    }
   }
  },
  {
   "cell_type": "markdown",
   "source": [
    "### Prune the DataFrame to only include CL and CO\n",
    "#### And change CO to 0 and CL to 1"
   ],
   "metadata": {
    "collapsed": false,
    "pycharm": {
     "name": "#%% md\n"
    }
   }
  },
  {
   "cell_type": "code",
   "execution_count": 138,
   "outputs": [],
   "source": [
    "df = df[(df['Result']=='CO') | (df['Result']=='CL')]\n",
    "df['Result'].replace(to_replace=['CO', 'CL'], value=[0,1], inplace=True)"
   ],
   "metadata": {
    "collapsed": false,
    "pycharm": {
     "name": "#%%\n"
    }
   }
  },
  {
   "cell_type": "code",
   "execution_count": 139,
   "outputs": [
    {
     "name": "stdout",
     "output_type": "stream",
     "text": [
      "RentMortgagePayment\n",
      "TotalIncome\n",
      "CarPayment\n",
      "Expenses\n",
      "AvailableIncome\n",
      "Miles\n",
      "OpeningBalance\n",
      "Salary\n",
      "Term\n",
      "VehicleYear\n",
      "CreaditScore\n",
      "LTV\n",
      "DTI\n",
      "TradelinesTotal\n",
      "TradelinesBalance\n",
      "Foreclosure\n",
      "Reposessions\n",
      "Bankrupcies\n",
      "Chageoff\n",
      "Mortgage\n",
      "NinetyDaysDelinquent\n",
      "InquiresTotal\n",
      "OpenTotal\n",
      "ClosedTotalTermsNotPaid\n",
      "LatePaymentHistory001230\n",
      "LatePaymentHistory001260\n",
      "LatePaymentHistory001290Plus\n",
      "PaidAccounts\n",
      "InquiriesLast6Months\n",
      "OpenTotalInBadStatus\n",
      "CurrentPaymentsMade\n",
      "RentMortgage\n",
      "CashDown\n",
      "HomeOwner\n",
      "Result\n",
      "Training Confusion Matrix: \n",
      "[[2145 1826]\n",
      " [1577 2698]]\n",
      "Test Confusion Matrix: \n",
      "[[556 463]\n",
      " [395 648]]\n",
      "Test Accuracy: \n"
     ]
    },
    {
     "data": {
      "text/plain": "0.5838991270611057"
     },
     "execution_count": 139,
     "metadata": {},
     "output_type": "execute_result"
    }
   ],
   "source": [
    "label_encoder = LabelEncoder()\n",
    "# df = label_encoder.fit_transform(df)\n",
    "\n",
    "for column in df.columns:\n",
    "    print(column)\n",
    "    df[column] = label_encoder.fit_transform(df[column])\n",
    "\n",
    "\n",
    "x_train, x_test, y_train, y_test = train_test_split(\n",
    "    df.iloc[:,:-1], df.iloc[:,-1:], test_size=0.2, random_state=42)\n",
    "\n",
    "logReg = LogisticRegression(max_iter=10000)#, class_weight='balanced')\n",
    "rfe = RFE(estimator = logReg, n_features_to_select = 25)\n",
    "rfe.fit(x_train, y_train.values.ravel())\n",
    "\n",
    "train_pred = rfe.predict(x_train)\n",
    "test_pred = rfe.predict(x_test)\n",
    "\n",
    "\n",
    "train_confusion = metrics.confusion_matrix(y_train, train_pred)\n",
    "test_confusion = metrics.confusion_matrix(y_test, test_pred)\n",
    "print(\"Training Confusion Matrix: \")\n",
    "print(train_confusion)\n",
    "print(\"Test Confusion Matrix: \")\n",
    "print(test_confusion)\n",
    "print(\"Test Accuracy: \")\n",
    "metrics.accuracy_score(y_test, test_pred)"
   ],
   "metadata": {
    "collapsed": false,
    "pycharm": {
     "name": "#%%\n"
    }
   }
  },
  {
   "cell_type": "code",
   "execution_count": 121,
   "outputs": [
    {
     "name": "stdout",
     "output_type": "stream",
     "text": [
      "Training Data ROC and AUC\n"
     ]
    },
    {
     "name": "stderr",
     "output_type": "stream",
     "text": [
      "/Users/nikhil/Documents/401/CODE/Scorelate/venv/lib/python3.10/site-packages/sklearn/metrics/_ranking.py:769: FutureWarning: elementwise comparison failed; returning scalar instead, but in the future will perform elementwise comparison\n",
      "  y_true = y_true == pos_label\n"
     ]
    },
    {
     "ename": "TypeError",
     "evalue": "'bool' object is not subscriptable",
     "output_type": "error",
     "traceback": [
      "\u001B[0;31m---------------------------------------------------------------------------\u001B[0m",
      "\u001B[0;31mTypeError\u001B[0m                                 Traceback (most recent call last)",
      "Cell \u001B[0;32mIn[121], line 3\u001B[0m\n\u001B[1;32m      1\u001B[0m \u001B[38;5;28mprint\u001B[39m(\u001B[38;5;124m\"\u001B[39m\u001B[38;5;124mTraining Data ROC and AUC\u001B[39m\u001B[38;5;124m\"\u001B[39m)\n\u001B[1;32m      2\u001B[0m train_proba \u001B[38;5;241m=\u001B[39m rfe\u001B[38;5;241m.\u001B[39mpredict_proba(x_train)[::,\u001B[38;5;241m1\u001B[39m]\n\u001B[0;32m----> 3\u001B[0m fpr, tpr, _ \u001B[38;5;241m=\u001B[39m \u001B[43mmetrics\u001B[49m\u001B[38;5;241;43m.\u001B[39;49m\u001B[43mroc_curve\u001B[49m\u001B[43m(\u001B[49m\u001B[43my_train\u001B[49m\u001B[43m,\u001B[49m\u001B[43m \u001B[49m\u001B[43mtrain_proba\u001B[49m\u001B[43m,\u001B[49m\u001B[43m \u001B[49m\u001B[43mpos_label\u001B[49m\u001B[38;5;241;43m=\u001B[39;49m\u001B[38;5;124;43m\"\u001B[39;49m\u001B[38;5;124;43mM\u001B[39;49m\u001B[38;5;124;43m\"\u001B[39;49m\u001B[43m)\u001B[49m\n\u001B[1;32m      4\u001B[0m auc \u001B[38;5;241m=\u001B[39m metrics\u001B[38;5;241m.\u001B[39mroc_auc_score(y_train, train_proba)\n\u001B[1;32m      5\u001B[0m plt\u001B[38;5;241m.\u001B[39mplot(fpr,tpr,label\u001B[38;5;241m=\u001B[39m\u001B[38;5;124m\"\u001B[39m\u001B[38;5;124mTrain Data, auc=\u001B[39m\u001B[38;5;124m\"\u001B[39m\u001B[38;5;241m+\u001B[39m\u001B[38;5;28mstr\u001B[39m(auc))\n",
      "File \u001B[0;32m~/Documents/401/CODE/Scorelate/venv/lib/python3.10/site-packages/sklearn/metrics/_ranking.py:992\u001B[0m, in \u001B[0;36mroc_curve\u001B[0;34m(y_true, y_score, pos_label, sample_weight, drop_intermediate)\u001B[0m\n\u001B[1;32m    904\u001B[0m \u001B[38;5;28;01mdef\u001B[39;00m \u001B[38;5;21mroc_curve\u001B[39m(\n\u001B[1;32m    905\u001B[0m     y_true, y_score, \u001B[38;5;241m*\u001B[39m, pos_label\u001B[38;5;241m=\u001B[39m\u001B[38;5;28;01mNone\u001B[39;00m, sample_weight\u001B[38;5;241m=\u001B[39m\u001B[38;5;28;01mNone\u001B[39;00m, drop_intermediate\u001B[38;5;241m=\u001B[39m\u001B[38;5;28;01mTrue\u001B[39;00m\n\u001B[1;32m    906\u001B[0m ):\n\u001B[1;32m    907\u001B[0m \u001B[38;5;250m    \u001B[39m\u001B[38;5;124;03m\"\"\"Compute Receiver operating characteristic (ROC).\u001B[39;00m\n\u001B[1;32m    908\u001B[0m \n\u001B[1;32m    909\u001B[0m \u001B[38;5;124;03m    Note: this implementation is restricted to the binary classification task.\u001B[39;00m\n\u001B[0;32m   (...)\u001B[0m\n\u001B[1;32m    990\u001B[0m \u001B[38;5;124;03m    array([1.8 , 0.8 , 0.4 , 0.35, 0.1 ])\u001B[39;00m\n\u001B[1;32m    991\u001B[0m \u001B[38;5;124;03m    \"\"\"\u001B[39;00m\n\u001B[0;32m--> 992\u001B[0m     fps, tps, thresholds \u001B[38;5;241m=\u001B[39m \u001B[43m_binary_clf_curve\u001B[49m\u001B[43m(\u001B[49m\n\u001B[1;32m    993\u001B[0m \u001B[43m        \u001B[49m\u001B[43my_true\u001B[49m\u001B[43m,\u001B[49m\u001B[43m \u001B[49m\u001B[43my_score\u001B[49m\u001B[43m,\u001B[49m\u001B[43m \u001B[49m\u001B[43mpos_label\u001B[49m\u001B[38;5;241;43m=\u001B[39;49m\u001B[43mpos_label\u001B[49m\u001B[43m,\u001B[49m\u001B[43m \u001B[49m\u001B[43msample_weight\u001B[49m\u001B[38;5;241;43m=\u001B[39;49m\u001B[43msample_weight\u001B[49m\n\u001B[1;32m    994\u001B[0m \u001B[43m    \u001B[49m\u001B[43m)\u001B[49m\n\u001B[1;32m    996\u001B[0m     \u001B[38;5;66;03m# Attempt to drop thresholds corresponding to points in between and\u001B[39;00m\n\u001B[1;32m    997\u001B[0m     \u001B[38;5;66;03m# collinear with other points. These are always suboptimal and do not\u001B[39;00m\n\u001B[1;32m    998\u001B[0m     \u001B[38;5;66;03m# appear on a plotted ROC curve (and thus do not affect the AUC).\u001B[39;00m\n\u001B[0;32m   (...)\u001B[0m\n\u001B[1;32m   1003\u001B[0m     \u001B[38;5;66;03m# but does not drop more complicated cases like fps = [1, 3, 7],\u001B[39;00m\n\u001B[1;32m   1004\u001B[0m     \u001B[38;5;66;03m# tps = [1, 2, 4]; there is no harm in keeping too many thresholds.\u001B[39;00m\n\u001B[1;32m   1005\u001B[0m     \u001B[38;5;28;01mif\u001B[39;00m drop_intermediate \u001B[38;5;129;01mand\u001B[39;00m \u001B[38;5;28mlen\u001B[39m(fps) \u001B[38;5;241m>\u001B[39m \u001B[38;5;241m2\u001B[39m:\n",
      "File \u001B[0;32m~/Documents/401/CODE/Scorelate/venv/lib/python3.10/site-packages/sklearn/metrics/_ranking.py:774\u001B[0m, in \u001B[0;36m_binary_clf_curve\u001B[0;34m(y_true, y_score, pos_label, sample_weight)\u001B[0m\n\u001B[1;32m    772\u001B[0m desc_score_indices \u001B[38;5;241m=\u001B[39m np\u001B[38;5;241m.\u001B[39margsort(y_score, kind\u001B[38;5;241m=\u001B[39m\u001B[38;5;124m\"\u001B[39m\u001B[38;5;124mmergesort\u001B[39m\u001B[38;5;124m\"\u001B[39m)[::\u001B[38;5;241m-\u001B[39m\u001B[38;5;241m1\u001B[39m]\n\u001B[1;32m    773\u001B[0m y_score \u001B[38;5;241m=\u001B[39m y_score[desc_score_indices]\n\u001B[0;32m--> 774\u001B[0m y_true \u001B[38;5;241m=\u001B[39m \u001B[43my_true\u001B[49m\u001B[43m[\u001B[49m\u001B[43mdesc_score_indices\u001B[49m\u001B[43m]\u001B[49m\n\u001B[1;32m    775\u001B[0m \u001B[38;5;28;01mif\u001B[39;00m sample_weight \u001B[38;5;129;01mis\u001B[39;00m \u001B[38;5;129;01mnot\u001B[39;00m \u001B[38;5;28;01mNone\u001B[39;00m:\n\u001B[1;32m    776\u001B[0m     weight \u001B[38;5;241m=\u001B[39m sample_weight[desc_score_indices]\n",
      "\u001B[0;31mTypeError\u001B[0m: 'bool' object is not subscriptable"
     ]
    }
   ],
   "source": [
    "print(\"Training Data ROC and AUC\")\n",
    "train_proba = rfe.predict_proba(x_train)[::,1]\n",
    "fpr, tpr, _ = metrics.roc_curve(y_train, train_proba, pos_label=\"M\")\n",
    "auc = metrics.roc_auc_score(y_train, train_proba)\n",
    "plt.plot(fpr,tpr,label=\"Train Data, auc=\"+str(auc))\n",
    "plt.legend(loc=4)\n",
    "plt.show()"
   ],
   "metadata": {
    "collapsed": false,
    "pycharm": {
     "name": "#%%\n"
    }
   }
  },
  {
   "cell_type": "code",
   "execution_count": 119,
   "outputs": [
    {
     "name": "stdout",
     "output_type": "stream",
     "text": [
      "['Bankrupcies' 'Chageoff' 'Mortgage' 'OpenTotal' 'PaidAccounts'\n",
      " 'OpenTotalInBadStatus' 'HomeOwner']\n"
     ]
    }
   ],
   "source": [
    "print(rfe.get_feature_names_out())\n",
    "\n",
    "# for i in range(0, len(rfe.support_)):\n",
    "#     if(rfe.support_[i]):\n",
    "#         print(rfe.feature_names_in_[i])"
   ],
   "metadata": {
    "collapsed": false,
    "pycharm": {
     "name": "#%%\n"
    }
   }
  },
  {
   "cell_type": "markdown",
   "source": [
    "### XGBoost"
   ],
   "metadata": {
    "collapsed": false,
    "pycharm": {
     "name": "#%% md\n"
    }
   }
  },
  {
   "cell_type": "code",
   "execution_count": 140,
   "outputs": [],
   "source": [
    "xgdata = df.copy(deep=True)\n",
    "# xgdata = xgdata[['CreaditScore', 'InquiresTotal', 'Expenses', 'CashDown', 'OpeningBalance', 'Result']]"
   ],
   "metadata": {
    "collapsed": false,
    "pycharm": {
     "name": "#%%\n"
    }
   }
  },
  {
   "cell_type": "code",
   "execution_count": 141,
   "outputs": [
    {
     "name": "stderr",
     "output_type": "stream",
     "text": [
      " 13%|█▎        | 13/100 [02:48<18:47, 12.96s/it]\n"
     ]
    },
    {
     "ename": "KeyboardInterrupt",
     "evalue": "",
     "output_type": "error",
     "traceback": [
      "\u001B[0;31m---------------------------------------------------------------------------\u001B[0m",
      "\u001B[0;31mKeyboardInterrupt\u001B[0m                         Traceback (most recent call last)",
      "Cell \u001B[0;32mIn[141], line 14\u001B[0m\n\u001B[1;32m      7\u001B[0m param \u001B[38;5;241m=\u001B[39m {\n\u001B[1;32m      8\u001B[0m     \u001B[38;5;124m'\u001B[39m\u001B[38;5;124meta\u001B[39m\u001B[38;5;124m'\u001B[39m: \u001B[38;5;241m0.01\u001B[39m,\n\u001B[1;32m      9\u001B[0m     \u001B[38;5;124m'\u001B[39m\u001B[38;5;124mobjective\u001B[39m\u001B[38;5;124m'\u001B[39m: \u001B[38;5;124m'\u001B[39m\u001B[38;5;124mmulti:softprob\u001B[39m\u001B[38;5;124m'\u001B[39m,\n\u001B[1;32m     10\u001B[0m     \u001B[38;5;124m'\u001B[39m\u001B[38;5;124mnum_class\u001B[39m\u001B[38;5;124m'\u001B[39m: \u001B[38;5;241m2\u001B[39m\n\u001B[1;32m     11\u001B[0m }\n\u001B[1;32m     12\u001B[0m epochs \u001B[38;5;241m=\u001B[39m \u001B[38;5;241m500\u001B[39m\n\u001B[0;32m---> 14\u001B[0m model \u001B[38;5;241m=\u001B[39m \u001B[43mxgb\u001B[49m\u001B[38;5;241;43m.\u001B[39;49m\u001B[43mtrain\u001B[49m\u001B[43m(\u001B[49m\u001B[43mparam\u001B[49m\u001B[43m,\u001B[49m\u001B[43m \u001B[49m\u001B[43mtrain\u001B[49m\u001B[43m,\u001B[49m\u001B[43m \u001B[49m\u001B[43mepochs\u001B[49m\u001B[43m)\u001B[49m\n\u001B[1;32m     15\u001B[0m predictions \u001B[38;5;241m=\u001B[39m model\u001B[38;5;241m.\u001B[39mpredict(test)\n\u001B[1;32m     16\u001B[0m y \u001B[38;5;241m=\u001B[39m []\n",
      "File \u001B[0;32m~/Documents/401/CODE/Scorelate/venv/lib/python3.10/site-packages/xgboost/core.py:620\u001B[0m, in \u001B[0;36mrequire_keyword_args.<locals>.throw_if.<locals>.inner_f\u001B[0;34m(*args, **kwargs)\u001B[0m\n\u001B[1;32m    618\u001B[0m \u001B[38;5;28;01mfor\u001B[39;00m k, arg \u001B[38;5;129;01min\u001B[39;00m \u001B[38;5;28mzip\u001B[39m(sig\u001B[38;5;241m.\u001B[39mparameters, args):\n\u001B[1;32m    619\u001B[0m     kwargs[k] \u001B[38;5;241m=\u001B[39m arg\n\u001B[0;32m--> 620\u001B[0m \u001B[38;5;28;01mreturn\u001B[39;00m \u001B[43mfunc\u001B[49m\u001B[43m(\u001B[49m\u001B[38;5;241;43m*\u001B[39;49m\u001B[38;5;241;43m*\u001B[39;49m\u001B[43mkwargs\u001B[49m\u001B[43m)\u001B[49m\n",
      "File \u001B[0;32m~/Documents/401/CODE/Scorelate/venv/lib/python3.10/site-packages/xgboost/training.py:185\u001B[0m, in \u001B[0;36mtrain\u001B[0;34m(params, dtrain, num_boost_round, evals, obj, feval, maximize, early_stopping_rounds, evals_result, verbose_eval, xgb_model, callbacks, custom_metric)\u001B[0m\n\u001B[1;32m    183\u001B[0m \u001B[38;5;28;01mif\u001B[39;00m cb_container\u001B[38;5;241m.\u001B[39mbefore_iteration(bst, i, dtrain, evals):\n\u001B[1;32m    184\u001B[0m     \u001B[38;5;28;01mbreak\u001B[39;00m\n\u001B[0;32m--> 185\u001B[0m \u001B[43mbst\u001B[49m\u001B[38;5;241;43m.\u001B[39;49m\u001B[43mupdate\u001B[49m\u001B[43m(\u001B[49m\u001B[43mdtrain\u001B[49m\u001B[43m,\u001B[49m\u001B[43m \u001B[49m\u001B[43mi\u001B[49m\u001B[43m,\u001B[49m\u001B[43m \u001B[49m\u001B[43mobj\u001B[49m\u001B[43m)\u001B[49m\n\u001B[1;32m    186\u001B[0m \u001B[38;5;28;01mif\u001B[39;00m cb_container\u001B[38;5;241m.\u001B[39mafter_iteration(bst, i, dtrain, evals):\n\u001B[1;32m    187\u001B[0m     \u001B[38;5;28;01mbreak\u001B[39;00m\n",
      "File \u001B[0;32m~/Documents/401/CODE/Scorelate/venv/lib/python3.10/site-packages/xgboost/core.py:1918\u001B[0m, in \u001B[0;36mBooster.update\u001B[0;34m(self, dtrain, iteration, fobj)\u001B[0m\n\u001B[1;32m   1915\u001B[0m \u001B[38;5;28mself\u001B[39m\u001B[38;5;241m.\u001B[39m_validate_dmatrix_features(dtrain)\n\u001B[1;32m   1917\u001B[0m \u001B[38;5;28;01mif\u001B[39;00m fobj \u001B[38;5;129;01mis\u001B[39;00m \u001B[38;5;28;01mNone\u001B[39;00m:\n\u001B[0;32m-> 1918\u001B[0m     _check_call(\u001B[43m_LIB\u001B[49m\u001B[38;5;241;43m.\u001B[39;49m\u001B[43mXGBoosterUpdateOneIter\u001B[49m\u001B[43m(\u001B[49m\u001B[38;5;28;43mself\u001B[39;49m\u001B[38;5;241;43m.\u001B[39;49m\u001B[43mhandle\u001B[49m\u001B[43m,\u001B[49m\n\u001B[1;32m   1919\u001B[0m \u001B[43m                                            \u001B[49m\u001B[43mctypes\u001B[49m\u001B[38;5;241;43m.\u001B[39;49m\u001B[43mc_int\u001B[49m\u001B[43m(\u001B[49m\u001B[43miteration\u001B[49m\u001B[43m)\u001B[49m\u001B[43m,\u001B[49m\n\u001B[1;32m   1920\u001B[0m \u001B[43m                                            \u001B[49m\u001B[43mdtrain\u001B[49m\u001B[38;5;241;43m.\u001B[39;49m\u001B[43mhandle\u001B[49m\u001B[43m)\u001B[49m)\n\u001B[1;32m   1921\u001B[0m \u001B[38;5;28;01melse\u001B[39;00m:\n\u001B[1;32m   1922\u001B[0m     pred \u001B[38;5;241m=\u001B[39m \u001B[38;5;28mself\u001B[39m\u001B[38;5;241m.\u001B[39mpredict(dtrain, output_margin\u001B[38;5;241m=\u001B[39m\u001B[38;5;28;01mTrue\u001B[39;00m, training\u001B[38;5;241m=\u001B[39m\u001B[38;5;28;01mTrue\u001B[39;00m)\n",
      "\u001B[0;31mKeyboardInterrupt\u001B[0m: "
     ]
    }
   ],
   "source": [
    "for x in tqdm(range(100)):\n",
    "    x_train, x_test, y_train, y_test = train_test_split(xgdata.iloc[:,:-1], xgdata.iloc[:,-1:], test_size=0.2)\n",
    "\n",
    "    train = xgb.DMatrix(x_train, label=y_train)\n",
    "    test = xgb.DMatrix(x_test, label=y_test)\n",
    "\n",
    "    param = {\n",
    "        'eta': 0.01,\n",
    "        'objective': 'multi:softprob',\n",
    "        'num_class': 2\n",
    "    }\n",
    "    epochs = 500\n",
    "\n",
    "    model = xgb.train(param, train, epochs)\n",
    "    predictions = model.predict(test)\n",
    "    y = []\n",
    "\n",
    "    for z in predictions:\n",
    "        y.append(np.argmax(z))\n",
    "\n",
    "    acc = round(accuracy_score(y_test, y), 3) * 100\n",
    "    # print(acc)\n",
    "    model.save_model('Models/XGBoost_{}%_Scorelate.json'.format(acc))"
   ],
   "metadata": {
    "collapsed": false,
    "pycharm": {
     "name": "#%%\n"
    }
   }
  },
  {
   "cell_type": "code",
   "execution_count": 67,
   "outputs": [
    {
     "data": {
      "text/plain": "<Figure size 640x480 with 1 Axes>",
      "image/png": "[encoded data removed]"
     },
     "metadata": {},
     "output_type": "display_data"
    }
   ],
   "source": [
    "xgb_ml = xgb.Booster()\n",
    "xgb_ml.load_model('Models/XGBoost_61.3%_Scorelate.json')\n",
    "\n",
    "\n",
    "# plot feature importance\n",
    "plot_importance(xgb_ml)\n",
    "plt.show()"
   ],
   "metadata": {
    "collapsed": false,
    "pycharm": {
     "name": "#%%\n"
    }
   }
  }
 ],
 "metadata": {
  "kernelspec": {
   "display_name": "Python 3",
   "language": "python",
   "name": "python3"
  },
  "language_info": {
   "codemirror_mode": {
    "name": "ipython",
    "version": 2
   },
   "file_extension": ".py",
   "mimetype": "text/x-python",
   "name": "python",
   "nbconvert_exporter": "python",
   "pygments_lexer": "ipython2",
   "version": "2.7.6"
  }
 },
 "nbformat": 4,
 "nbformat_minor": 0
}