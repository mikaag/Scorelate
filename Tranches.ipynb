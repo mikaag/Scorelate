{
 "cells": [
  {
   "cell_type": "code",
   "execution_count": 2,
   "metadata": {
    "collapsed": true,
    "pycharm": {
     "name": "#%%\n"
    }
   },
   "outputs": [
    {
     "name": "stdout",
     "output_type": "stream",
     "text": [
      "2.9.0\n"
     ]
    }
   ],
   "source": [
    "import tensorflow as tf\n",
    "import pandas as pd\n",
    "import matplotlib\n",
    "from matplotlib import pyplot as plt\n",
    "from sklearn.model_selection import train_test_split\n",
    "import seaborn as sns\n",
    "import sklearn.metrics as sk_metrics\n",
    "from sklearn.preprocessing import LabelEncoder\n",
    "from sklearn.linear_model import LinearRegression\n",
    "import tempfile\n",
    "import statsmodels.api as sm\n",
    "import os\n",
    "from tensorflow import keras\n",
    "import statsmodels.formula.api as smf\n",
    "\n",
    "from tensorflow.keras import layers\n",
    "from sklearn.feature_selection import SelectKBest\n",
    "from sklearn import metrics\n",
    "import pymssql\n",
    "from sklearn.model_selection import KFold\n",
    "from sklearn.model_selection import cross_val_score\n",
    "from sklearn.feature_selection import RFE\n",
    "from tqdm import tqdm\n",
    "import numpy as np\n",
    "from tensorflow.python.ops.numpy_ops import np_config\n",
    "np_config.enable_numpy_behavior()\n",
    "import math\n",
    "from sklearn.model_selection import train_test_split\n",
    "from sklearn.linear_model import SGDRegressor\n",
    "import xgboost as xgb\n",
    "from xgboost import XGBRegressor\n",
    "from sklearn.metrics import accuracy_score\n",
    "from xgboost import plot_importance\n",
    "from sklearn.neighbors import KNeighborsClassifier\n",
    "from sklearn.preprocessing import StandardScaler\n",
    "from sklearn.decomposition import PCA\n",
    "from sklearn.discriminant_analysis import LinearDiscriminantAnalysis\n",
    "from sklearn.neighbors import KNeighborsClassifier, NeighborhoodComponentsAnalysis\n",
    "from sklearn.pipeline import make_pipeline\n",
    "from mpl_toolkits import mplot3d\n",
    "\n",
    "\n",
    "random_state = 2023\n",
    "\n",
    "# Preset matplotlib figure sizes.\n",
    "matplotlib.rcParams['figure.figsize'] = [9, 6]\n",
    "\n",
    "print(tf.__version__)\n",
    "# To make the results reproducible, set the random seed value.\n",
    "tf.random.set_seed(22)"
   ]
  },
  {
   "cell_type": "code",
   "execution_count": 13,
   "outputs": [
    {
     "name": "stderr",
     "output_type": "stream",
     "text": [
      "26508it [00:25, 1026.51it/s]\n",
      "/var/folders/kh/np0tdw052gg77h97rt6rm3l80000gn/T/ipykernel_77349/188036787.py:92: FutureWarning: The default value of numeric_only in DataFrame.mean is deprecated. In a future version, it will default to False. In addition, specifying 'numeric_only=None' is deprecated. Select only valid columns or specify the value of numeric_only to silence this warning.\n",
      "  df.fillna(df.mean(), inplace=True)\n"
     ]
    }
   ],
   "source": [
    "def get_column_index(cursor, column_name):\n",
    "    for index, col in enumerate(cursor.description):\n",
    "        if col[0] == column_name:\n",
    "            return index\n",
    "additional_data_headers = [\"RentMortgagePayment\" ,\"TotalIncome\" ,\"RentMortgage\" ,\"CarPayment\" ,\"Expenses\" ,\"AvailableIncome\" ,\"Miles\"]\n",
    "additional_data_sql = \"VIN,\"\n",
    "for i, header in enumerate(additional_data_headers):\n",
    "    additional_data_sql += header\n",
    "    if i!=len(additional_data_headers)-1:\n",
    "        additional_data_sql+=','\n",
    "\n",
    "conn = pymssql.connect(server='localhost', user='sa', password='Passw0rd!', database='Loans_2023_01_27')\n",
    "cursor = conn.cursor()\n",
    "\n",
    "headers = []\n",
    "rows = []\n",
    "\n",
    "# Underwriting Data\n",
    "cursor.execute(\"SELECT * FROM dbo.UnderwritingData\")\n",
    "\n",
    "for entity in cursor.description:\n",
    "    headers.append(entity[0])\n",
    "\n",
    "vin_index = get_column_index(cursor, \"VIN\")\n",
    "\n",
    "res = cursor.fetchone()\n",
    "while res:\n",
    "    row = [element for element in res]\n",
    "    if row[vin_index] is not None:\n",
    "        rows.append(row)\n",
    "    res = cursor.fetchone()\n",
    "\n",
    "df = pd.DataFrame(rows, columns=headers)\n",
    "ids = [i for i in range(0, len(df))]\n",
    "default_status = [\"NA\" for _ in range(len(df))]\n",
    "default_delq = [\"NA\" for i in range(len(df))]\n",
    "default_apr = [\"NA\" for _ in range(len(df))]\n",
    "df[\"ID\"] = ids\n",
    "df[\"APR\"] = default_apr\n",
    "df[\"Status\"] = default_status\n",
    "df[\"Delq\"] = default_delq\n",
    "df = df[df['OpeningBalance']!=0]\n",
    "\n",
    "\n",
    "#Raw algorithm data\n",
    "headers = []\n",
    "rawAlgRows =[]\n",
    "cursor.execute(\"Select * FROM dbo.RawAlgorithmData\")\n",
    "\n",
    "for entity in cursor.description:\n",
    "    headers.append(entity[0])\n",
    "\n",
    "vin_index = get_column_index(cursor, \"Vin6\")\n",
    "\n",
    "res = cursor.fetchone()\n",
    "while res:\n",
    "    row = [element for element in res]\n",
    "    if row[vin_index] is not None:\n",
    "        rawAlgRows.append(row)\n",
    "    res = cursor.fetchone()\n",
    "\n",
    "rawAlgDf = pd.DataFrame(rawAlgRows, columns=headers)\n",
    "#prune extra space from end of vins\n",
    "rawAlgDf['Vin6'] = rawAlgDf['Vin6'].apply(lambda x: x.strip())\n",
    "df['VIN'] = df['VIN'].apply(lambda x: x.strip())\n",
    "\n",
    "\n",
    "#matching by credit score\n",
    "for idx, row in tqdm(rawAlgDf.iterrows()):\n",
    "    vin = row[\"Vin6\"]\n",
    "    vinsFromUnder = df[df[\"VIN\"]==vin]\n",
    "\n",
    "\n",
    "    for index, match in vinsFromUnder.iterrows():\n",
    "        matchID = match[\"ID\"]\n",
    "        underwritingCreditScore = (int)(match[\"CreaditScore\"])\n",
    "        rawCreditScore = (int)(row[\"Score\"])\n",
    "\n",
    "        #we don't want to match if the scores are zero, since that means they are missing\n",
    "        if rawCreditScore==0:\n",
    "            continue\n",
    "\n",
    "        if underwritingCreditScore==rawCreditScore:\n",
    "            df.loc[df[\"ID\"]==matchID,\"Status\"]=row[\"ProcStatsCd\"]\n",
    "            df.loc[df[\"ID\"]==matchID,\"Delq\"]=row[\"Delq\"]\n",
    "            df.loc[df[\"ID\"]==matchID, \"APR\"] = int(row[\"Apr\"] * 100) if row[\"Apr\"] is not None else None #convert apr to an int\n",
    "\n",
    "df = df[(df['Status']=='CO') | (df['Status']=='CL')]\n",
    "df['Status'].replace(to_replace=['CO', 'CL'], value=[0,1], inplace=True)\n",
    "df['HomeOwner'].replace(to_replace=['N', 'Y'], value=[0,1], inplace=True)\n",
    "df['DelqPct'] = df.apply(lambda row : (100*row['Delq'])/row['OpeningBalance'],axis=1)\n",
    "df.fillna(df.mean(), inplace=True)\n",
    "\n",
    "#TODO maybe put back: CreaditScore, CurrentPaymentsMade, DelqPct\n",
    "df = df[[\"OpeningBalance\",\"Salary\",\"Term\",\"VehicleYear\",\"LTV\",\"DTI\",\"TradelinesTotal\",\"TradelinesBalance\",\"Reposessions\",\"Bankrupcies\",\"Chageoff\",\"Mortgage\",\"NinetyDaysDelinquent\",\"InquiresTotal\",\"OpenTotal\",\"ClosedTotalTermsNotPaid\",\"LatePaymentHistory001230\",\"LatePaymentHistory001260\",\"LatePaymentHistory001290Plus\",\"PaidAccounts\",\"InquiriesLast6Months\",\"OpenTotalInBadStatus\",\"RentMortgage\",\"CashDown\",\"HomeOwner\", \"APR\", \"CreaditScore\", \"DelqPct\", \"Status\"]]\n",
    "\n",
    "#outlier handling\n",
    "for col in df.columns:\n",
    "    if(col in [\"Status\", \"DelqPct\", \"CreaditScore\", \"HomeOwner\", \"Reposessions\", \"Chageoff\", \"APR\"]):\n",
    "        continue\n",
    "    percentiles = df[col].quantile([0.00, 0.999]).values\n",
    "    df.loc[df[col]<=percentiles[0], col] = percentiles[0]\n",
    "    df.loc[df[col]>=percentiles[1], col] = percentiles[1]"
   ],
   "metadata": {
    "collapsed": false,
    "pycharm": {
     "name": "#%%\n"
    }
   }
  },
  {
   "cell_type": "code",
   "execution_count": 14,
   "outputs": [
    {
     "name": "stdout",
     "output_type": "stream",
     "text": [
      "0        0.0\n",
      "2        0.0\n",
      "4        0.0\n",
      "6        0.0\n",
      "7        4.0\n",
      "        ... \n",
      "16822    0.0\n",
      "16832    0.0\n",
      "16860    0.0\n",
      "16887    0.0\n",
      "17040    0.0\n",
      "Name: DelqPct, Length: 8402, dtype: float64\n",
      "[4401, 979, 809, 1077, 1136]\n"
     ]
    }
   ],
   "source": [
    "#0-1 Tranches for each feature\n",
    "# for col in df.columns:\n",
    "#     if col == \"Status\" or col ==\"DelqPct\":\n",
    "#         continue\n",
    "#     # print(col+\": \", end=\"\")\n",
    "#     # print(df[col].mean())\n",
    "#     mean = df[col].mean()\n",
    "#     df.loc[df[col]<=mean, col] = 0\n",
    "#     df.loc[df[col]>mean, col] = 1\n",
    "\n",
    "# print(df[\"DelqPct\"].describe())\n",
    "# td = df.copy(deep=True)\n",
    "# td= td[td[\"DelqPct\"]>0]\n",
    "# print(td[\"DelqPct\"].describe())\n",
    "\n",
    "df.loc[(0 < df[\"DelqPct\"]) & (df[\"DelqPct\"] <= 4), \"DelqPct\"] = 1\n",
    "df.loc[(4 < df[\"DelqPct\"]) & (df[\"DelqPct\"] <= 7), \"DelqPct\"] = 2\n",
    "df.loc[(7 < df[\"DelqPct\"]) & (df[\"DelqPct\"] <= 11), \"DelqPct\"] = 3\n",
    "df.loc[11 < df[\"DelqPct\"], \"DelqPct\"] = 4\n",
    "\n",
    "Xdat = df.iloc[:,:-2]\n",
    "ydat = df[\"DelqPct\"]\n",
    "\n",
    "\n",
    "# print(Xdat)\n",
    "count = [0,0,0,0,0]\n",
    "print(ydat)\n",
    "for i in ydat:\n",
    "    count[int(i)]+=1\n",
    "    # print(i)\n",
    "print(count)"
   ],
   "metadata": {
    "collapsed": false,
    "pycharm": {
     "name": "#%%\n"
    }
   }
  },
  {
   "cell_type": "code",
   "execution_count": 17,
   "outputs": [
    {
     "name": "stdout",
     "output_type": "stream",
     "text": [
      "['Salary', 'NinetyDaysDelinquent', 'OpenTotalInBadStatus', 'OpeningBalance', 'CashDown', 'CreaditScore', 'APR']\n",
      "       Salary  NinetyDaysDelinquent  OpenTotalInBadStatus  OpeningBalance  \\\n",
      "0      4604.0                     1                     1        13048.40   \n",
      "4      4374.0                    20                    20        14975.10   \n",
      "6      2800.0                     2                     2         8704.21   \n",
      "7      1870.0                     5                     5         9395.40   \n",
      "8      2500.0                     7                     7         9472.44   \n",
      "...       ...                   ...                   ...             ...   \n",
      "16720  3200.0                     0                     0        10487.67   \n",
      "16805  1900.0                     2                     2        11042.58   \n",
      "16822  2580.0                     5                     5         9111.68   \n",
      "16860  5880.0                     0                     0         9119.37   \n",
      "16887  2700.0                     3                     3         9937.12   \n",
      "\n",
      "       CashDown  CreaditScore   APR  \n",
      "0        3000.0           532  2299  \n",
      "4           0.0           485  2499  \n",
      "6        1500.0           531  2499  \n",
      "7        1900.0           513  2499  \n",
      "8        2000.0           522  2495  \n",
      "...         ...           ...   ...  \n",
      "16720    1500.0           667  2295  \n",
      "16805    1800.0           575  2299  \n",
      "16822    1500.0           602  2195  \n",
      "16860    1000.0           709  1599  \n",
      "16887    1500.0           597  2400  \n",
      "\n",
      "[7271 rows x 7 columns]\n",
      "0        0.0\n",
      "4        0.0\n",
      "6        0.0\n",
      "7        4.0\n",
      "8        4.0\n",
      "        ... \n",
      "16720    0.0\n",
      "16805    0.0\n",
      "16822    0.0\n",
      "16860    0.0\n",
      "16887    0.0\n",
      "Name: DelqPct, Length: 7271, dtype: float64\n"
     ]
    }
   ],
   "source": [
    "from scipy.stats import pearsonr\n",
    "\n",
    "corrs = dict()\n",
    "\n",
    "for col in df.columns:\n",
    "    if col == \"DelqPct\" or col==\"Status\":\n",
    "        continue\n",
    "    corr, _ = pearsonr(df[col], df[\"DelqPct\"])\n",
    "    corrs[col] = abs(corr)\n",
    "\n",
    "corrs = {k: v for k, v in sorted(corrs.items(), key=lambda item: item[1])}\n",
    "\n",
    "goodCols = []\n",
    "\n",
    "for col, score in corrs.items():\n",
    "    if score>=0.1:\n",
    "        goodCols.append(col)\n",
    "\n",
    "print(goodCols)\n",
    "goodCols.append(\"DelqPct\")\n",
    "\n",
    "df = df[goodCols]\n",
    "Xdat = df.iloc[:,:-1]\n",
    "ydat = df[\"DelqPct\"]\n",
    "print(Xdat)\n",
    "print(ydat)"
   ],
   "metadata": {
    "collapsed": false,
    "pycharm": {
     "name": "#%%\n"
    }
   }
  },
  {
   "cell_type": "code",
   "execution_count": 21,
   "outputs": [
    {
     "name": "stdout",
     "output_type": "stream",
     "text": [
      "       Salary  NinetyDaysDelinquent  OpenTotalInBadStatus  OpeningBalance  \\\n",
      "4      4374.0                    20                    20        14975.10   \n",
      "7      1870.0                     5                     5         9395.40   \n",
      "8      2500.0                     7                     7         9472.44   \n",
      "11     2500.0                     1                     1         8557.73   \n",
      "12     1569.0                     2                     2        10843.18   \n",
      "...       ...                   ...                   ...             ...   \n",
      "16592  4700.0                     0                     0        17954.18   \n",
      "16633  4411.0                     5                     5        16250.00   \n",
      "16710  2700.0                     0                     0        11500.00   \n",
      "16805  1900.0                     2                     2        11042.58   \n",
      "16860  5880.0                     0                     0         9119.37   \n",
      "\n",
      "       CashDown  CreaditScore   APR  \n",
      "4           0.0           485  2499  \n",
      "7        1900.0           513  2499  \n",
      "8        2000.0           522  2495  \n",
      "11       2000.0           588  2295  \n",
      "12       2700.0           559  2199  \n",
      "...         ...           ...   ...  \n",
      "16592    3000.0           812  2031  \n",
      "16633    2000.0           494  2300  \n",
      "16710    2000.0           580  2290  \n",
      "16805    1800.0           575  2299  \n",
      "16860    1000.0           709  1599  \n",
      "\n",
      "[5394 rows x 7 columns]\n",
      "4        0.0\n",
      "7        4.0\n",
      "8        4.0\n",
      "11       4.0\n",
      "12       3.0\n",
      "        ... \n",
      "16592    0.0\n",
      "16633    1.0\n",
      "16710    1.0\n",
      "16805    0.0\n",
      "16860    0.0\n",
      "Name: DelqPct, Length: 5394, dtype: float64\n",
      "4        0.0\n",
      "7        4.0\n",
      "8        4.0\n",
      "11       4.0\n",
      "12       3.0\n",
      "        ... \n",
      "16592    0.0\n",
      "16633    1.0\n",
      "16710    1.0\n",
      "16805    0.0\n",
      "16860    0.0\n",
      "Name: DelqPct, Length: 5394, dtype: float64\n",
      "[1393, 979, 809, 1077, 1136]\n"
     ]
    }
   ],
   "source": [
    "import random\n",
    "\n",
    "\n",
    "for index, row in df.iterrows():\n",
    "    if row[\"DelqPct\"] == 0.0 and random.uniform(0, 1) < 0.25:\n",
    "        df = df.drop(index)\n",
    "    #     print(\"dropping\")\n",
    "    # else:\n",
    "    #     print(\"not\")\n",
    "\n",
    "\n",
    "Xdat = df.iloc[:,:-1]\n",
    "ydat = df[\"DelqPct\"]\n",
    "print(Xdat)\n",
    "print(ydat)\n",
    "\n",
    "count = [0,0,0,0,0]\n",
    "print(ydat)\n",
    "for i in ydat:\n",
    "    count[int(i)]+=1\n",
    "    # print(i)\n",
    "print(count)\n",
    "\n",
    "newydat = []\n",
    "for i in ydat:\n",
    "    if(i==0.0):\n",
    "        newydat.append(0)\n",
    "    else:\n",
    "        newydat.append(1)"
   ],
   "metadata": {
    "collapsed": false,
    "pycharm": {
     "name": "#%%\n"
    }
   }
  },
  {
   "cell_type": "code",
   "execution_count": 22,
   "outputs": [
    {
     "name": "stderr",
     "output_type": "stream",
     "text": [
      " 33%|███▎      | 1/3 [00:05<00:11,  5.76s/it]"
     ]
    },
    {
     "name": "stdout",
     "output_type": "stream",
     "text": [
      "Acc: 0.741\n",
      "Preds\n",
      "[[0.27317795 0.7268221 ]\n",
      " [0.18525247 0.8147475 ]\n",
      " [0.20330165 0.79669833]\n",
      " [0.18620454 0.8137955 ]\n",
      " [0.31254125 0.68745875]\n",
      " [0.22742315 0.77257687]\n",
      " [0.22601572 0.77398425]\n",
      " [0.19010635 0.80989367]\n",
      " [0.7235189  0.27648106]\n",
      " [0.29948112 0.70051885]]\n",
      "Test\n",
      "[0, 1, 1, 0, 1, 0, 1, 1, 0, 1]\n"
     ]
    },
    {
     "name": "stderr",
     "output_type": "stream",
     "text": [
      " 67%|██████▋   | 2/3 [00:12<00:06,  6.07s/it]"
     ]
    },
    {
     "name": "stdout",
     "output_type": "stream",
     "text": [
      "Acc: 0.758\n",
      "Preds\n",
      "[[0.18378083 0.8162192 ]\n",
      " [0.24424413 0.7557559 ]\n",
      " [0.21189184 0.7881082 ]\n",
      " [0.26854497 0.73145497]\n",
      " [0.22507647 0.77492356]\n",
      " [0.29109216 0.70890784]\n",
      " [0.17091331 0.8290867 ]\n",
      " [0.22009386 0.77990615]\n",
      " [0.30592763 0.69407237]\n",
      " [0.20368242 0.7963175 ]]\n",
      "Test\n",
      "[1, 1, 1, 1, 1, 1, 1, 1, 0, 0]\n"
     ]
    },
    {
     "name": "stderr",
     "output_type": "stream",
     "text": [
      " 67%|██████▋   | 2/3 [00:14<00:07,  7.29s/it]\n"
     ]
    },
    {
     "ename": "KeyboardInterrupt",
     "evalue": "",
     "output_type": "error",
     "traceback": [
      "\u001B[0;31m---------------------------------------------------------------------------\u001B[0m",
      "\u001B[0;31mKeyboardInterrupt\u001B[0m                         Traceback (most recent call last)",
      "Cell \u001B[0;32mIn[22], line 14\u001B[0m\n\u001B[1;32m      7\u001B[0m param \u001B[38;5;241m=\u001B[39m {\n\u001B[1;32m      8\u001B[0m     \u001B[38;5;124m'\u001B[39m\u001B[38;5;124meta\u001B[39m\u001B[38;5;124m'\u001B[39m: \u001B[38;5;241m0.01\u001B[39m,\n\u001B[1;32m      9\u001B[0m     \u001B[38;5;124m'\u001B[39m\u001B[38;5;124mobjective\u001B[39m\u001B[38;5;124m'\u001B[39m: \u001B[38;5;124m'\u001B[39m\u001B[38;5;124mmulti:softprob\u001B[39m\u001B[38;5;124m'\u001B[39m,\n\u001B[1;32m     10\u001B[0m     \u001B[38;5;124m'\u001B[39m\u001B[38;5;124mnum_class\u001B[39m\u001B[38;5;124m'\u001B[39m: \u001B[38;5;241m2\u001B[39m\n\u001B[1;32m     11\u001B[0m }\n\u001B[1;32m     12\u001B[0m epochs \u001B[38;5;241m=\u001B[39m \u001B[38;5;241m500\u001B[39m\n\u001B[0;32m---> 14\u001B[0m model \u001B[38;5;241m=\u001B[39m \u001B[43mxgb\u001B[49m\u001B[38;5;241;43m.\u001B[39;49m\u001B[43mtrain\u001B[49m\u001B[43m(\u001B[49m\u001B[43mparam\u001B[49m\u001B[43m,\u001B[49m\u001B[43m \u001B[49m\u001B[43mtrain\u001B[49m\u001B[43m,\u001B[49m\u001B[43m \u001B[49m\u001B[43mepochs\u001B[49m\u001B[43m)\u001B[49m\n\u001B[1;32m     16\u001B[0m predictions \u001B[38;5;241m=\u001B[39m model\u001B[38;5;241m.\u001B[39mpredict(test)\n\u001B[1;32m     18\u001B[0m y \u001B[38;5;241m=\u001B[39m []\n",
      "File \u001B[0;32m~/Documents/401/CODE/Scorelate/venv/lib/python3.10/site-packages/xgboost/core.py:620\u001B[0m, in \u001B[0;36mrequire_keyword_args.<locals>.throw_if.<locals>.inner_f\u001B[0;34m(*args, **kwargs)\u001B[0m\n\u001B[1;32m    618\u001B[0m \u001B[38;5;28;01mfor\u001B[39;00m k, arg \u001B[38;5;129;01min\u001B[39;00m \u001B[38;5;28mzip\u001B[39m(sig\u001B[38;5;241m.\u001B[39mparameters, args):\n\u001B[1;32m    619\u001B[0m     kwargs[k] \u001B[38;5;241m=\u001B[39m arg\n\u001B[0;32m--> 620\u001B[0m \u001B[38;5;28;01mreturn\u001B[39;00m \u001B[43mfunc\u001B[49m\u001B[43m(\u001B[49m\u001B[38;5;241;43m*\u001B[39;49m\u001B[38;5;241;43m*\u001B[39;49m\u001B[43mkwargs\u001B[49m\u001B[43m)\u001B[49m\n",
      "File \u001B[0;32m~/Documents/401/CODE/Scorelate/venv/lib/python3.10/site-packages/xgboost/training.py:185\u001B[0m, in \u001B[0;36mtrain\u001B[0;34m(params, dtrain, num_boost_round, evals, obj, feval, maximize, early_stopping_rounds, evals_result, verbose_eval, xgb_model, callbacks, custom_metric)\u001B[0m\n\u001B[1;32m    183\u001B[0m \u001B[38;5;28;01mif\u001B[39;00m cb_container\u001B[38;5;241m.\u001B[39mbefore_iteration(bst, i, dtrain, evals):\n\u001B[1;32m    184\u001B[0m     \u001B[38;5;28;01mbreak\u001B[39;00m\n\u001B[0;32m--> 185\u001B[0m \u001B[43mbst\u001B[49m\u001B[38;5;241;43m.\u001B[39;49m\u001B[43mupdate\u001B[49m\u001B[43m(\u001B[49m\u001B[43mdtrain\u001B[49m\u001B[43m,\u001B[49m\u001B[43m \u001B[49m\u001B[43mi\u001B[49m\u001B[43m,\u001B[49m\u001B[43m \u001B[49m\u001B[43mobj\u001B[49m\u001B[43m)\u001B[49m\n\u001B[1;32m    186\u001B[0m \u001B[38;5;28;01mif\u001B[39;00m cb_container\u001B[38;5;241m.\u001B[39mafter_iteration(bst, i, dtrain, evals):\n\u001B[1;32m    187\u001B[0m     \u001B[38;5;28;01mbreak\u001B[39;00m\n",
      "File \u001B[0;32m~/Documents/401/CODE/Scorelate/venv/lib/python3.10/site-packages/xgboost/core.py:1918\u001B[0m, in \u001B[0;36mBooster.update\u001B[0;34m(self, dtrain, iteration, fobj)\u001B[0m\n\u001B[1;32m   1915\u001B[0m \u001B[38;5;28mself\u001B[39m\u001B[38;5;241m.\u001B[39m_validate_dmatrix_features(dtrain)\n\u001B[1;32m   1917\u001B[0m \u001B[38;5;28;01mif\u001B[39;00m fobj \u001B[38;5;129;01mis\u001B[39;00m \u001B[38;5;28;01mNone\u001B[39;00m:\n\u001B[0;32m-> 1918\u001B[0m     _check_call(\u001B[43m_LIB\u001B[49m\u001B[38;5;241;43m.\u001B[39;49m\u001B[43mXGBoosterUpdateOneIter\u001B[49m\u001B[43m(\u001B[49m\u001B[38;5;28;43mself\u001B[39;49m\u001B[38;5;241;43m.\u001B[39;49m\u001B[43mhandle\u001B[49m\u001B[43m,\u001B[49m\n\u001B[1;32m   1919\u001B[0m \u001B[43m                                            \u001B[49m\u001B[43mctypes\u001B[49m\u001B[38;5;241;43m.\u001B[39;49m\u001B[43mc_int\u001B[49m\u001B[43m(\u001B[49m\u001B[43miteration\u001B[49m\u001B[43m)\u001B[49m\u001B[43m,\u001B[49m\n\u001B[1;32m   1920\u001B[0m \u001B[43m                                            \u001B[49m\u001B[43mdtrain\u001B[49m\u001B[38;5;241;43m.\u001B[39;49m\u001B[43mhandle\u001B[49m\u001B[43m)\u001B[49m)\n\u001B[1;32m   1921\u001B[0m \u001B[38;5;28;01melse\u001B[39;00m:\n\u001B[1;32m   1922\u001B[0m     pred \u001B[38;5;241m=\u001B[39m \u001B[38;5;28mself\u001B[39m\u001B[38;5;241m.\u001B[39mpredict(dtrain, output_margin\u001B[38;5;241m=\u001B[39m\u001B[38;5;28;01mTrue\u001B[39;00m, training\u001B[38;5;241m=\u001B[39m\u001B[38;5;28;01mTrue\u001B[39;00m)\n",
      "\u001B[0;31mKeyboardInterrupt\u001B[0m: "
     ]
    }
   ],
   "source": [
    "accs = []\n",
    "for x in tqdm(range(3)):\n",
    "    x_train, x_test, y_train, y_test = train_test_split(Xdat, newydat, test_size=0.2)\n",
    "    train = xgb.DMatrix(x_train, label=y_train, enable_categorical=True)\n",
    "    test = xgb.DMatrix(x_test, label=y_test, enable_categorical=True)\n",
    "\n",
    "    param = {\n",
    "        'eta': 0.01,\n",
    "        'objective': 'multi:softprob',\n",
    "        'num_class': 2\n",
    "    }\n",
    "    epochs = 500\n",
    "\n",
    "    model = xgb.train(param, train, epochs)\n",
    "\n",
    "    predictions = model.predict(test)\n",
    "\n",
    "    y = []\n",
    "\n",
    "    for z in predictions:\n",
    "        y.append(np.argmax(z))\n",
    "\n",
    "    acc = round(accuracy_score(y_test, y), 3)\n",
    "    # model.save_model('Models/Delq/XGBoost_{}%_Scorelate.json'.format(acc))\n",
    "\n",
    "    print(\"Acc: \", end='')\n",
    "    print(acc)\n",
    "\n",
    "    accs.append(acc)\n",
    "\n",
    "    pred = model.predict(xgb.DMatrix(x_test))\n",
    "    rpreds = [1 if i[0]>=0.5 else 0 for i in pred]\n",
    "    print(\"Preds\")\n",
    "    print(pred[:10])\n",
    "    print(\"Test\")\n",
    "    print(y_test[:10])\n",
    "\n",
    "print(sum(accs)/len(accs))"
   ],
   "metadata": {
    "collapsed": false,
    "pycharm": {
     "name": "#%%\n"
    }
   }
  },
  {
   "cell_type": "code",
   "execution_count": null,
   "outputs": [],
   "source": [],
   "metadata": {
    "collapsed": false,
    "pycharm": {
     "name": "#%%\n"
    }
   }
  }
 ],
 "metadata": {
  "kernelspec": {
   "display_name": "Python 3",
   "language": "python",
   "name": "python3"
  },
  "language_info": {
   "codemirror_mode": {
    "name": "ipython",
    "version": 2
   },
   "file_extension": ".py",
   "mimetype": "text/x-python",
   "name": "python",
   "nbconvert_exporter": "python",
   "pygments_lexer": "ipython2",
   "version": "2.7.6"
  }
 },
 "nbformat": 4,
 "nbformat_minor": 0
}